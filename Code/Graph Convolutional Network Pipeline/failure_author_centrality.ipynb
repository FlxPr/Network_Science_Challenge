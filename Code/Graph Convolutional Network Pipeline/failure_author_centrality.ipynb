{
 "cells": [
  {
   "cell_type": "code",
   "execution_count": 143,
   "metadata": {},
   "outputs": [],
   "source": [
    "import pandas as pd\n",
    "import networkx as nx\n",
    "import re"
   ]
  },
  {
   "cell_type": "code",
   "execution_count": 128,
   "metadata": {},
   "outputs": [],
   "source": [
    "# Read all the files\n",
    "df_train = pd.read_csv('training_set.txt', header=None, sep=' ', names=['X1', 'X2', 'Y'])\n",
    "df_test = pd.read_csv('testing_set.txt', header=None, sep=' ', names=['X1', 'X2'])\n",
    "df_info = pd.read_csv('node_information.csv', header=None, names=['ID', 'Year', 'Title', 'Author', 'Journal', 'Abstract'], index_col = 'ID')"
   ]
  },
  {
   "cell_type": "code",
   "execution_count": 129,
   "metadata": {},
   "outputs": [],
   "source": [
    "# Fillin nan values\n",
    "df_info = df_info.fillna('')"
   ]
  },
  {
   "cell_type": "code",
   "execution_count": null,
   "metadata": {},
   "outputs": [],
   "source": []
  },
  {
   "cell_type": "code",
   "execution_count": 130,
   "metadata": {},
   "outputs": [],
   "source": [
    "# Clean author name\n",
    "def clean_author(li):\n",
    "    res = []\n",
    "    \n",
    "    for text in li:\n",
    "        \n",
    "        # Convert to lower cases\n",
    "        text = text.lower()\n",
    "        \n",
    "        # Remove the part after '('\n",
    "        text = text.split('(')[0]\n",
    "        \n",
    "        # Remove all the punctuations but dots\n",
    "        text = re.sub(r'[^\\w\\s.]','',text)        \n",
    "        \n",
    "        # Remove spaces at the beginning and the end\n",
    "        text = text.strip()\n",
    "        \n",
    "        # Get last names and initials\n",
    "        if text != '':\n",
    "            if '.' in text:\n",
    "                initial = text.split('.')[0][0]\n",
    "            else:\n",
    "                initial = text[0]\n",
    "            # Assume last names always appear after the last dot\n",
    "            last_name = text.split('.')[-1].split(' ')[-1]\n",
    "            text = initial + '. ' + last_name\n",
    "        else:\n",
    "            text = ''\n",
    "        \n",
    "        # Keep only names that are not too short\n",
    "        if len(text) > 4:\n",
    "            res.append(text)\n",
    "        \n",
    "    return res"
   ]
  },
  {
   "cell_type": "code",
   "execution_count": 131,
   "metadata": {},
   "outputs": [],
   "source": [
    "# Generate an author graph\n",
    "def node2aut(x):\n",
    "    # Get author lists for X1 and X2\n",
    "    aut1 = df_info.loc[x[0]]['Author']\n",
    "    aut2 = df_info.loc[x[1]]['Author']\n",
    "    \n",
    "    # Return None if X1 or X2 doesn't have any author\n",
    "    if len(aut1) == 0 or len(aut2) == 0:\n",
    "        return None\n",
    "    \n",
    "    # Return citation pairs\n",
    "    res = [(a1, a2) for a1 in aut1 for a2 in aut2]\n",
    "    \n",
    "    return res"
   ]
  },
  {
   "cell_type": "code",
   "execution_count": 132,
   "metadata": {},
   "outputs": [],
   "source": [
    "# Get the author column\n",
    "aut = df_info['Author'].str.split(',')\n",
    "df_info['Author'] = aut.map(clean_author)"
   ]
  },
  {
   "cell_type": "code",
   "execution_count": 133,
   "metadata": {},
   "outputs": [],
   "source": [
    "# Get the edge list\n",
    "edges = df_train[df_train['Y']==1]"
   ]
  },
  {
   "cell_type": "code",
   "execution_count": 134,
   "metadata": {},
   "outputs": [],
   "source": [
    "# Return author edges\n",
    "aut_edges = edges.apply(node2aut, axis=1).dropna()\n",
    "aut_edges = [j for i in aut_edges.to_list() for j in i]\n",
    "aut_edges = pd.DataFrame(aut_edges, columns = ['Source', 'Destination'])\n",
    "aut_edges = aut_edges.groupby(['Source', 'Destination']).size().reset_index()\n",
    "aut_edges.columns = ['Source', 'Destination', 'Weight']"
   ]
  },
  {
   "cell_type": "code",
   "execution_count": 135,
   "metadata": {},
   "outputs": [],
   "source": [
    "# Save to the disk\n",
    "# aut_edges.to_csv('author.csv', index=None)"
   ]
  },
  {
   "cell_type": "code",
   "execution_count": null,
   "metadata": {},
   "outputs": [],
   "source": []
  },
  {
   "cell_type": "markdown",
   "metadata": {},
   "source": [
    "# Author network feature extraction"
   ]
  },
  {
   "cell_type": "code",
   "execution_count": 188,
   "metadata": {},
   "outputs": [],
   "source": [
    "# Read the saved file\n",
    "edges = pd.read_csv('author.csv')"
   ]
  },
  {
   "cell_type": "code",
   "execution_count": 199,
   "metadata": {},
   "outputs": [],
   "source": [
    "# Construct an author graph\n",
    "G = nx.from_pandas_edgelist(edges, 'Source', 'Destination', True, create_using=nx.DiGraph())"
   ]
  },
  {
   "cell_type": "code",
   "execution_count": 200,
   "metadata": {},
   "outputs": [
    {
     "data": {
      "text/html": [
       "<div>\n",
       "<style scoped>\n",
       "    .dataframe tbody tr th:only-of-type {\n",
       "        vertical-align: middle;\n",
       "    }\n",
       "\n",
       "    .dataframe tbody tr th {\n",
       "        vertical-align: top;\n",
       "    }\n",
       "\n",
       "    .dataframe thead th {\n",
       "        text-align: right;\n",
       "    }\n",
       "</style>\n",
       "<table border=\"1\" class=\"dataframe\">\n",
       "  <thead>\n",
       "    <tr style=\"text-align: right;\">\n",
       "      <th></th>\n",
       "      <th>Source</th>\n",
       "      <th>Destination</th>\n",
       "      <th>Weight</th>\n",
       "    </tr>\n",
       "  </thead>\n",
       "  <tbody>\n",
       "    <tr>\n",
       "      <th>0</th>\n",
       "      <td>1. 10</td>\n",
       "      <td>f. wilczek</td>\n",
       "      <td>1</td>\n",
       "    </tr>\n",
       "    <tr>\n",
       "      <th>1</th>\n",
       "      <td>1. 10</td>\n",
       "      <td>j. preskill</td>\n",
       "      <td>1</td>\n",
       "    </tr>\n",
       "    <tr>\n",
       "      <th>2</th>\n",
       "      <td>1. 10</td>\n",
       "      <td>s. coleman</td>\n",
       "      <td>1</td>\n",
       "    </tr>\n",
       "    <tr>\n",
       "      <th>3</th>\n",
       "      <td>1. pages</td>\n",
       "      <td>l. dickey</td>\n",
       "      <td>1</td>\n",
       "    </tr>\n",
       "    <tr>\n",
       "      <th>4</th>\n",
       "      <td>1. pages</td>\n",
       "      <td>v. kaplunovsky</td>\n",
       "      <td>1</td>\n",
       "    </tr>\n",
       "    <tr>\n",
       "      <th>...</th>\n",
       "      <td>...</td>\n",
       "      <td>...</td>\n",
       "      <td>...</td>\n",
       "    </tr>\n",
       "    <tr>\n",
       "      <th>443012</th>\n",
       "      <td>z. zongan</td>\n",
       "      <td>t. pantev</td>\n",
       "      <td>1</td>\n",
       "    </tr>\n",
       "    <tr>\n",
       "      <th>443013</th>\n",
       "      <td>z. zongan</td>\n",
       "      <td>u. lecce</td>\n",
       "      <td>1</td>\n",
       "    </tr>\n",
       "    <tr>\n",
       "      <th>443014</th>\n",
       "      <td>z. zongan</td>\n",
       "      <td>v. sadov</td>\n",
       "      <td>2</td>\n",
       "    </tr>\n",
       "    <tr>\n",
       "      <th>443015</th>\n",
       "      <td>z. zongan</td>\n",
       "      <td>z. kakushadze</td>\n",
       "      <td>1</td>\n",
       "    </tr>\n",
       "    <tr>\n",
       "      <th>443016</th>\n",
       "      <td>z. zongan</td>\n",
       "      <td>z. zongan</td>\n",
       "      <td>1</td>\n",
       "    </tr>\n",
       "  </tbody>\n",
       "</table>\n",
       "<p>443017 rows × 3 columns</p>\n",
       "</div>"
      ],
      "text/plain": [
       "           Source     Destination  Weight\n",
       "0           1. 10      f. wilczek       1\n",
       "1           1. 10     j. preskill       1\n",
       "2           1. 10      s. coleman       1\n",
       "3        1. pages       l. dickey       1\n",
       "4        1. pages  v. kaplunovsky       1\n",
       "...           ...             ...     ...\n",
       "443012  z. zongan       t. pantev       1\n",
       "443013  z. zongan        u. lecce       1\n",
       "443014  z. zongan        v. sadov       2\n",
       "443015  z. zongan   z. kakushadze       1\n",
       "443016  z. zongan       z. zongan       1\n",
       "\n",
       "[443017 rows x 3 columns]"
      ]
     },
     "execution_count": 200,
     "metadata": {},
     "output_type": "execute_result"
    }
   ],
   "source": [
    "edges"
   ]
  },
  {
   "cell_type": "code",
   "execution_count": 201,
   "metadata": {},
   "outputs": [],
   "source": [
    "# Get graph attributes\n",
    "att = {'in_degree_centrality':nx.in_degree_centrality(G),\n",
    "        'out_degree_centrality':nx.out_degree_centrality(G),\n",
    "        'eigenvector_centrality':nx.eigenvector_centrality(G, weight='Weight')}\n",
    "att = pd.DataFrame(att).reset_index()\n",
    "att = att.set_index('index')"
   ]
  },
  {
   "cell_type": "code",
   "execution_count": 202,
   "metadata": {},
   "outputs": [],
   "source": [
    "# Sort by centrality\n",
    "att = att.sort_values('eigenvector_centrality', ascending=False)"
   ]
  },
  {
   "cell_type": "code",
   "execution_count": 203,
   "metadata": {},
   "outputs": [
    {
     "data": {
      "text/html": [
       "<div>\n",
       "<style scoped>\n",
       "    .dataframe tbody tr th:only-of-type {\n",
       "        vertical-align: middle;\n",
       "    }\n",
       "\n",
       "    .dataframe tbody tr th {\n",
       "        vertical-align: top;\n",
       "    }\n",
       "\n",
       "    .dataframe thead th {\n",
       "        text-align: right;\n",
       "    }\n",
       "</style>\n",
       "<table border=\"1\" class=\"dataframe\">\n",
       "  <thead>\n",
       "    <tr style=\"text-align: right;\">\n",
       "      <th></th>\n",
       "      <th>in_degree_centrality</th>\n",
       "      <th>out_degree_centrality</th>\n",
       "      <th>eigenvector_centrality</th>\n",
       "    </tr>\n",
       "    <tr>\n",
       "      <th>index</th>\n",
       "      <th></th>\n",
       "      <th></th>\n",
       "      <th></th>\n",
       "    </tr>\n",
       "  </thead>\n",
       "  <tbody>\n",
       "    <tr>\n",
       "      <th>c. vafa</th>\n",
       "      <td>0.191463</td>\n",
       "      <td>0.063167</td>\n",
       "      <td>0.356714</td>\n",
       "    </tr>\n",
       "    <tr>\n",
       "      <th>h. lu</th>\n",
       "      <td>0.104133</td>\n",
       "      <td>0.062799</td>\n",
       "      <td>0.319881</td>\n",
       "    </tr>\n",
       "    <tr>\n",
       "      <th>c. pope</th>\n",
       "      <td>0.105605</td>\n",
       "      <td>0.061818</td>\n",
       "      <td>0.315223</td>\n",
       "    </tr>\n",
       "    <tr>\n",
       "      <th>e. witten</th>\n",
       "      <td>0.331166</td>\n",
       "      <td>0.063412</td>\n",
       "      <td>0.265511</td>\n",
       "    </tr>\n",
       "    <tr>\n",
       "      <th>m. cvetic</th>\n",
       "      <td>0.111247</td>\n",
       "      <td>0.075432</td>\n",
       "      <td>0.232406</td>\n",
       "    </tr>\n",
       "  </tbody>\n",
       "</table>\n",
       "</div>"
      ],
      "text/plain": [
       "           in_degree_centrality  out_degree_centrality  eigenvector_centrality\n",
       "index                                                                         \n",
       "c. vafa                0.191463               0.063167                0.356714\n",
       "h. lu                  0.104133               0.062799                0.319881\n",
       "c. pope                0.105605               0.061818                0.315223\n",
       "e. witten              0.331166               0.063412                0.265511\n",
       "m. cvetic              0.111247               0.075432                0.232406"
      ]
     },
     "execution_count": 203,
     "metadata": {},
     "output_type": "execute_result"
    }
   ],
   "source": [
    "att.head()"
   ]
  },
  {
   "cell_type": "code",
   "execution_count": 204,
   "metadata": {},
   "outputs": [],
   "source": [
    "# A helper funtion to return the maxium centrality among co-authors\n",
    "def max_centrality(x):\n",
    "    try:\n",
    "        return att.loc[x]['eigenvector_centrality'].max()\n",
    "    except:\n",
    "        return -1"
   ]
  },
  {
   "cell_type": "code",
   "execution_count": 205,
   "metadata": {},
   "outputs": [],
   "source": [
    "df_info['Author_cen'] = df_info['Author'].map(max_centrality)"
   ]
  },
  {
   "cell_type": "code",
   "execution_count": 206,
   "metadata": {},
   "outputs": [],
   "source": [
    "# Save to the disk\n",
    "df_info.to_csv('df_info_author_centrality.csv')"
   ]
  }
 ],
 "metadata": {
  "kernelspec": {
   "display_name": "Python 3",
   "language": "python",
   "name": "python3"
  },
  "language_info": {
   "codemirror_mode": {
    "name": "ipython",
    "version": 3
   },
   "file_extension": ".py",
   "mimetype": "text/x-python",
   "name": "python",
   "nbconvert_exporter": "python",
   "pygments_lexer": "ipython3",
   "version": "3.7.4"
  }
 },
 "nbformat": 4,
 "nbformat_minor": 4
}
